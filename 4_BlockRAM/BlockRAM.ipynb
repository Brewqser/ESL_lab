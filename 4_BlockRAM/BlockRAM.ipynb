{
 "cells": [
  {
   "cell_type": "code",
   "execution_count": 1,
   "metadata": {},
   "outputs": [],
   "source": [
    "from pygmyhdl import *\n",
    "\n",
    "@chunk\n",
    "def ram(clk_i, en_i, wr_i, addr_i, data_i, data_o):\n",
    "    mem = [Bus(len(data_i)) for _ in range(2**len(addr_i))]\n",
    "    \n",
    "    @seq_logic(clk_i.posedge)\n",
    "    def logic():\n",
    "        if en_i:\n",
    "            if wr_i:\n",
    "                mem[addr_i.val].next = data_i\n",
    "            else:\n",
    "                data_o.next = mem[addr_i.val]"
   ]
  },
  {
   "cell_type": "code",
   "execution_count": 2,
   "metadata": {},
   "outputs": [
    {
     "name": "stdout",
     "output_type": "stream",
     "text": [
      "  Time    en    clk    wr    addr    data_i    data_o\n",
      "------  ----  -----  ----  ------  --------  --------\n",
      "     0     1      0     1       0         1         0\n",
      "     1     1      1     1       0         1         0\n",
      "     2     1      0     1       1         4         0\n",
      "     3     1      1     1       1         4         0\n",
      "     4     1      0     1       2         7         0\n",
      "     5     1      1     1       2         7         0\n",
      "     6     1      0     1       3        10         0\n",
      "     7     1      1     1       3        10         0\n",
      "     8     1      0     1       4        13         0\n",
      "     9     1      1     1       4        13         0\n",
      "    10     1      0     1       5        16         0\n",
      "    11     1      1     1       5        16         0\n",
      "    12     1      0     1       6        19         0\n",
      "    13     1      1     1       6        19         0\n",
      "    14     1      0     1       7        22         0\n",
      "    15     1      1     1       7        22         0\n",
      "    16     1      0     1       8        25         0\n",
      "    17     1      1     1       8        25         0\n",
      "    18     1      0     1       9        28         0\n",
      "    19     1      1     1       9        28         0\n",
      "    20     1      0     0       0        28         0\n",
      "    21     1      1     0       0        28         1\n",
      "    22     1      0     0       1        28         1\n",
      "    23     1      1     0       1        28         4\n",
      "    24     1      0     0       2        28         4\n",
      "    25     1      1     0       2        28         7\n",
      "    26     1      0     0       3        28         7\n",
      "    27     1      1     0       3        28        10\n",
      "    28     1      0     0       4        28        10\n",
      "    29     1      1     0       4        28        13\n",
      "    30     1      0     0       5        28        13\n",
      "    31     1      1     0       5        28        16\n",
      "    32     1      0     0       6        28        16\n",
      "    33     1      1     0       6        28        19\n",
      "    34     1      0     0       7        28        19\n",
      "    35     1      1     0       7        28        22\n",
      "    36     1      0     0       8        28        22\n",
      "    37     1      1     0       8        28        25\n",
      "    38     1      0     0       9        28        25\n",
      "    39     1      1     0       9        28        28\n"
     ]
    },
    {
     "name": "stderr",
     "output_type": "stream",
     "text": [
      "<class 'myhdl.StopSimulation'>: No more events\n"
     ]
    }
   ],
   "source": [
    "initialize()\n",
    "\n",
    "clk = Wire(name='clk')\n",
    "en = Wire(name='en')\n",
    "wr = Wire(name='wr')\n",
    "addr = Bus(8, name='addr')\n",
    "data_i = Bus(8, name='data_i')\n",
    "data_o = Bus(8, name='data_o')\n",
    "\n",
    "ram(clk_i=clk, en_i=en, wr_i=wr, addr_i=addr, data_i=data_i, data_o=data_o)\n",
    "\n",
    "def ram_test_bench():\n",
    "    \n",
    "    en.next = 1\n",
    "    \n",
    "    wr.next = 1\n",
    "    for i in range(10):\n",
    "        addr.next = i\n",
    "        data_i.next = 3 * i + 1\n",
    "        \n",
    "        clk.next = 0\n",
    "        yield delay(1)\n",
    "        clk.next = 1\n",
    "        yield delay(1)\n",
    "\n",
    "    wr.next = 0\n",
    "    for i in range(10):\n",
    "        addr.next = i\n",
    "        \n",
    "        clk.next = 0\n",
    "        yield delay(1)\n",
    "        clk.next = 1\n",
    "        yield delay(1)\n",
    "\n",
    "simulate(ram_test_bench())\n",
    "\n",
    "show_text_table('en clk wr addr data_i data_o')"
   ]
  },
  {
   "cell_type": "code",
   "execution_count": 3,
   "metadata": {},
   "outputs": [],
   "source": [
    "# toVerilog(ram, clk_i=Wire(), en_i=Wire(), wr_i=Wire(), addr_i=Bus(8), data_i=Bus(8), data_o=Bus(8))"
   ]
  },
  {
   "cell_type": "code",
   "execution_count": 4,
   "metadata": {},
   "outputs": [],
   "source": [
    "@chunk\n",
    "def ram(clk_i,wr_i, addr_i, data_i, data_o):\n",
    "    \n",
    "    mem = [Bus(len(data_i)) for _ in range(2**len(addr_i))]\n",
    "    \n",
    "    @seq_logic(clk_i.posedge)\n",
    "    def logic():\n",
    "        if wr_i:\n",
    "            mem[addr_i.val].next = data_i\n",
    "        else:\n",
    "            data_o.next = mem[addr_i.val]\n",
    "                "
   ]
  },
  {
   "cell_type": "code",
   "execution_count": 5,
   "metadata": {},
   "outputs": [],
   "source": [
    "# toVerilog(ram, clk_i=Wire(), wr_i=Wire(), addr_i=Bus(8), data_i=Bus(8), data_o=Bus(8))"
   ]
  },
  {
   "cell_type": "code",
   "execution_count": 6,
   "metadata": {},
   "outputs": [],
   "source": [
    "@chunk\n",
    "def simpler_ram(clk_i,wr_i, addr_i, data_i, data_o):\n",
    "    \n",
    "    mem = [Bus(len(data_i)) for _ in range(2**len(addr_i))]\n",
    "    \n",
    "    @seq_logic(clk_i.posedge)\n",
    "    def logic():\n",
    "        if wr_i:\n",
    "            mem[addr_i.val].next = data_i\n",
    "        data_o.next = mem[addr_i.val]\n",
    "                "
   ]
  },
  {
   "cell_type": "code",
   "execution_count": 7,
   "metadata": {},
   "outputs": [],
   "source": [
    "# toVerilog(simpler_ram, clk_i=Wire(), wr_i=Wire(), addr_i=Bus(8), data_i=Bus(8), data_o=Bus(8))"
   ]
  },
  {
   "cell_type": "code",
   "execution_count": 8,
   "metadata": {},
   "outputs": [],
   "source": [
    "@chunk\n",
    "def dualport_ram(clk_i, wr_i, wr_addr_i, rd_addr_i, data_i, data_o):\n",
    "    \n",
    "    mem = [Bus(len(data_i)) for _ in range(2**len(wr_addr_i))]\n",
    "    \n",
    "    @seq_logic(clk_i.posedge)\n",
    "    def logic():\n",
    "        if wr_i:\n",
    "            mem[wr_addr_i.val].next = data_i\n",
    "        data_o.next = mem[rd_addr_i.val]"
   ]
  },
  {
   "cell_type": "code",
   "execution_count": 9,
   "metadata": {},
   "outputs": [
    {
     "name": "stdout",
     "output_type": "stream",
     "text": [
      "  Time    clk    wr    wr_addr    data_i    rd_addr    data_o\n",
      "------  -----  ----  ---------  --------  ---------  --------\n",
      "     0      0     1          0         1        253         0\n",
      "     1      1     1          0         1        253         0\n",
      "     2      0     1          1         4        254         0\n",
      "     3      1     1          1         4        254         0\n",
      "     4      0     1          2         7        255         0\n",
      "     5      1     1          2         7        255         0\n",
      "     6      0     1          3        10          0         0\n",
      "     7      1     1          3        10          0         1\n",
      "     8      0     1          4        13          1         1\n",
      "     9      1     1          4        13          1         4\n",
      "    10      0     1          5        16          2         4\n",
      "    11      1     1          5        16          2         7\n",
      "    12      0     1          6        19          3         7\n",
      "    13      1     1          6        19          3        10\n",
      "    14      0     1          7        22          4        10\n",
      "    15      1     1          7        22          4        13\n",
      "    16      0     1          8        25          5        13\n",
      "    17      1     1          8        25          5        16\n",
      "    18      0     1          9        28          6        16\n",
      "    19      1     1          9        28          6        19\n"
     ]
    },
    {
     "name": "stderr",
     "output_type": "stream",
     "text": [
      "<class 'myhdl.StopSimulation'>: No more events\n"
     ]
    }
   ],
   "source": [
    "initialize()\n",
    "\n",
    "clk = Wire(name='clk')\n",
    "wr = Wire(name='wr')\n",
    "wr_addr = Bus(8, name='wr_addr') \n",
    "rd_addr = Bus(8, name='rd_addr')\n",
    "data_i = Bus(8, name='data_i')\n",
    "data_o = Bus(8, name='data_o')\n",
    "\n",
    "dualport_ram(clk_i=clk, wr_i=wr, wr_addr_i=wr_addr, rd_addr_i=rd_addr, data_i=data_i, data_o=data_o)\n",
    "\n",
    "def ram_test_bench():\n",
    "    for i in range(10):\n",
    "        \n",
    "        wr_addr.next = i\n",
    "        data_i.next = 3 * i + 1\n",
    "        wr.next = 1\n",
    "        \n",
    "        rd_addr.next = i - 3\n",
    "        \n",
    "        clk.next = 0\n",
    "        yield delay(1)\n",
    "        clk.next = 1\n",
    "        yield delay(1)\n",
    "\n",
    "simulate(ram_test_bench())\n",
    "\n",
    "show_text_table('clk wr wr_addr data_i rd_addr data_o')"
   ]
  },
  {
   "cell_type": "code",
   "execution_count": 10,
   "metadata": {},
   "outputs": [],
   "source": [
    "# toVerilog(ram, clk_i=Wire(), wr_i=Wire(), addr_i=Bus(9), data_i=Bus(24), data_o=Bus(24))"
   ]
  },
  {
   "cell_type": "code",
   "execution_count": 11,
   "metadata": {},
   "outputs": [],
   "source": [
    "@chunk\n",
    "def gen_reset(clk_i, reset_o):\n",
    "    cntr = Bus(1)\n",
    "    \n",
    "    @seq_logic(clk_i.posedge)\n",
    "    def logic():\n",
    "        if cntr < 1:\n",
    "            cntr.next = cntr.next + 1\n",
    "            reset_o.next = 1\n",
    "        else:\n",
    "            reset_o.next = 0\n",
    "\n",
    "@chunk\n",
    "def sample_en(clk_i, do_sample_o, frq_in=12e6, frq_sample=100):\n",
    "    from math import ceil, log2\n",
    "    rollover = int(ceil(frq_in / frq_sample)) - 1\n",
    "    cntr = Bus(int(ceil(log2(frq_in/frq_sample))))\n",
    "    \n",
    "    @seq_logic(clk_i.posedge)\n",
    "    def counter():\n",
    "        cntr.next = cntr + 1\n",
    "        do_sample_o.next = 0\n",
    "        if cntr == rollover:\n",
    "            do_sample_o.next = 1\n",
    "            cntr.next = 0 \n",
    "\n",
    "@chunk\n",
    "def record_play(clk_i, button_a, button_b, leds_o):\n",
    "    \n",
    "    reset = Wire()\n",
    "    gen_reset(clk_i, reset)\n",
    "    \n",
    "    do_sample = Wire()\n",
    "    sample_en(clk_i, do_sample)\n",
    "    \n",
    "    wr = Wire()\n",
    "    addr = Bus(11)\n",
    "    end_addr = Bus(len(addr))\n",
    "    data_i = Bus(1)\n",
    "    data_o = Bus(1)\n",
    "    ram(clk_i, wr, addr, data_i, data_o)\n",
    "    \n",
    "    state = Bus(3)\n",
    "    INIT = 0\n",
    "    WAITING_TO_RECORD = 1\n",
    "    RECORDING = 2\n",
    "    WAITING_TO_PLAY = 3\n",
    "    PLAYING = 4\n",
    "\n",
    "    @seq_logic(clk_i.posedge)\n",
    "    def fsm():\n",
    "        \n",
    "        wr.next = 0\n",
    "        \n",
    "        if reset:\n",
    "            state.next = INIT\n",
    "            \n",
    "        elif do_sample: \n",
    "        \n",
    "            if state == INIT: \n",
    "                leds_o.next = 0b10101\n",
    "                if button_a == 1:\n",
    "                    \n",
    "                    state.next = WAITING_TO_RECORD\n",
    "                    \n",
    "            elif state == WAITING_TO_RECORD:\n",
    "                leds_o.next = 0b11010\n",
    "                if button_a == 0:\n",
    "                    addr.next = 0\n",
    "                    data_i.next = button_b\n",
    "                    wr.next = 1\n",
    "                    state.next = RECORDING\n",
    "                    \n",
    "            elif state == RECORDING:\n",
    "                addr.next = addr + 1\n",
    "                data_i.next = button_b\n",
    "                wr.next = 1\n",
    "                leds_o.next = concat(1,button_b, button_b, button_b, button_b)\n",
    "                if button_a == 1:\n",
    "                    end_addr.next = addr+1\n",
    "                    state.next = WAITING_TO_PLAY\n",
    "                    \n",
    "            elif state == WAITING_TO_PLAY:\n",
    "                leds_o.next = 0b10000\n",
    "                if button_a == 0:\n",
    "                    addr.next = 0\n",
    "                    state.next = PLAYING\n",
    "                    \n",
    "            elif state == PLAYING:\n",
    "                leds_o.next = concat(1,data_o[0],data_o[0],data_o[0],data_o[0])\n",
    "                addr.next = addr + 1\n",
    "                if addr == end_addr:\n",
    "                    addr.next = 0\n",
    "                if button_a == 1:\n",
    "                    state.next = WAITING_TO_RECORD"
   ]
  },
  {
   "cell_type": "code",
   "execution_count": 12,
   "metadata": {},
   "outputs": [
    {
     "name": "stderr",
     "output_type": "stream",
     "text": [
      "c:\\python35\\lib\\site-packages\\ipykernel_launcher.py:1: UserWarning: \n",
      "    toVerilog(): Deprecated usage: See http://dev.myhdl.org/meps/mep-114.html\n",
      "  \"\"\"Entry point for launching an IPython kernel.\n"
     ]
    },
    {
     "data": {
      "text/plain": [
       "[[<myhdl._always_seq._AlwaysSeq at 0x14819db0>],\n",
       " [<myhdl._always_seq._AlwaysSeq at 0x14872730>],\n",
       " <myhdl._always_seq._AlwaysSeq at 0x14a07fd0>,\n",
       " [<myhdl._always_seq._AlwaysSeq at 0x14a07d10>]]"
      ]
     },
     "execution_count": 12,
     "metadata": {},
     "output_type": "execute_result"
    }
   ],
   "source": [
    "toVerilog(record_play, clk_i=Wire(), button_a=Wire(), button_b=Wire(), leds_o=Bus(5))"
   ]
  }
 ],
 "metadata": {
  "kernelspec": {
   "display_name": "Python 3",
   "language": "python",
   "name": "python3"
  },
  "language_info": {
   "codemirror_mode": {
    "name": "ipython",
    "version": 3
   },
   "file_extension": ".py",
   "mimetype": "text/x-python",
   "name": "python",
   "nbconvert_exporter": "python",
   "pygments_lexer": "ipython3",
   "version": "3.5.0"
  }
 },
 "nbformat": 4,
 "nbformat_minor": 4
}
